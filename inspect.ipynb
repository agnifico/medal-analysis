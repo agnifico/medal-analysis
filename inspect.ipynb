{
 "cells": [
  {
   "cell_type": "code",
   "execution_count": 1,
   "metadata": {},
   "outputs": [],
   "source": [
    "import pandas as pd\n",
    "import numpy as np"
   ]
  },
  {
   "cell_type": "code",
   "execution_count": 2,
   "metadata": {},
   "outputs": [],
   "source": [
    "def print_full(x):\n",
    "    pd.set_option('display.max_rows', None)\n",
    "    pd.set_option('display.max_columns', None)\n",
    "    pd.set_option('display.width', 2000)\n",
    "    pd.set_option('display.float_format', '{:20,.2f}'.format)\n",
    "    pd.set_option('display.max_colwidth', None)\n",
    "    print(x)\n",
    "    pd.reset_option('display.max_rows')\n",
    "    pd.reset_option('display.max_columns')\n",
    "    pd.reset_option('display.width')\n",
    "    pd.reset_option('display.float_format')\n",
    "    pd.reset_option('display.max_colwidth')"
   ]
  },
  {
   "cell_type": "code",
   "execution_count": 3,
   "metadata": {},
   "outputs": [],
   "source": [
    "df = pd.read_csv('Summer-Olympic-medals-1976-to-2008.csv', encoding = \"ISO-8859-1\", engine='python')"
   ]
  },
  {
   "cell_type": "code",
   "execution_count": 4,
   "metadata": {},
   "outputs": [],
   "source": [
    "# Rename all column names to lower\n",
    "\n",
    "df = df.rename(str.lower, axis='columns')"
   ]
  },
  {
   "cell_type": "code",
   "execution_count": 5,
   "metadata": {
    "scrolled": true
   },
   "outputs": [],
   "source": [
    "# Drop all rows with any missing data\n",
    "\n",
    "df = df.dropna()"
   ]
  },
  {
   "cell_type": "code",
   "execution_count": 6,
   "metadata": {},
   "outputs": [],
   "source": [
    "df.year = df.year.astype(int)"
   ]
  },
  {
   "cell_type": "code",
   "execution_count": 7,
   "metadata": {},
   "outputs": [
    {
     "name": "stdout",
     "output_type": "stream",
     "text": [
      "East Germany\n",
      "Soviet Union\n",
      "West Germany\n",
      "Germany\n",
      "Russia\n"
     ]
    }
   ],
   "source": [
    "for i in df.country.unique():\n",
    "    interest = ['Soviet', 'Germany', 'Russia']\n",
    "    if any(j for j in interest if j in i):\n",
    "        print(i)"
   ]
  },
  {
   "cell_type": "code",
   "execution_count": 45,
   "metadata": {},
   "outputs": [],
   "source": [
    "d = {}\n",
    "for i in df.country.unique():\n",
    "    if '*' in i:\n",
    "        d[i] = i.replace('*', '')"
   ]
  },
  {
   "cell_type": "code",
   "execution_count": 46,
   "metadata": {},
   "outputs": [
    {
     "data": {
      "text/plain": [
       "{'Puerto Rico*': 'Puerto Rico',\n",
       " 'Bermuda*': 'Bermuda',\n",
       " 'Netherlands Antilles*': 'Netherlands Antilles',\n",
       " 'Virgin Islands*': 'Virgin Islands',\n",
       " 'Hong Kong*': 'Hong Kong'}"
      ]
     },
     "execution_count": 46,
     "metadata": {},
     "output_type": "execute_result"
    }
   ],
   "source": [
    "d"
   ]
  },
  {
   "cell_type": "code",
   "execution_count": 47,
   "metadata": {},
   "outputs": [],
   "source": [
    "df.country = df.country.replace({\n",
    "                    'East Germany' : 'Germany',\n",
    "                    'West Germany' : 'Germany',\n",
    "                    'Soviet Union' : 'Russia',\n",
    "                    'Unified team' : 'Russia'})\n",
    "\n",
    "df.country = df.country.replace(d)"
   ]
  },
  {
   "cell_type": "code",
   "execution_count": 48,
   "metadata": {},
   "outputs": [
    {
     "data": {
      "text/plain": [
       "array(['Germany', 'Russia', 'United States', 'Italy', 'Sweden',\n",
       "       'Australia', 'Canada', 'Netherlands', 'United Kingdom', 'Hungary',\n",
       "       'Japan', 'Cuba', 'Poland', 'Bulgaria', 'New Zealand', 'Belgium',\n",
       "       'Mexico', 'Jamaica', 'Finland', 'Romania', 'Portugal', 'France',\n",
       "       'Brazil', 'Czechoslovakia', 'Trinidad and Tobago', 'Yugoslavia',\n",
       "       'Venezuela', 'Puerto Rico', 'Korea, North', 'Bermuda', 'Thailand',\n",
       "       'Spain', 'Denmark', 'Switzerland', 'Pakistan', 'Korea, South',\n",
       "       'Norway', 'Austria', 'Iran', 'Mongolia', 'Ethiopia', 'Tanzania',\n",
       "       'Guyana', 'Uganda', 'Ireland', 'India', 'Zimbabwe', 'Greece',\n",
       "       'Lebanon', 'China', 'Nigeria', 'Kenya', 'Morocco', \"Cote d'Ivoire\",\n",
       "       'Algeria', 'Turkey', 'Cameroon', 'Zambia', 'Dominican Republic',\n",
       "       'Iceland', 'Egypt', 'Colombia', 'Peru', 'Taiwan', 'Syria',\n",
       "       'Costa Rica', 'Suriname', 'Indonesia', 'Djibouti', 'Senegal',\n",
       "       'Philippines', 'Netherlands Antilles', 'Virgin Islands', 'Chile',\n",
       "       'Argentina', 'Bahamas', 'South Africa', 'Namibia', 'Qatar',\n",
       "       'Lithuania', 'Malaysia', 'Croatia', 'Latvia', 'Estonia', 'Ghana',\n",
       "       'Israel', 'Slovenia', 'Independent Olympic Participants (1992)',\n",
       "       'Ukraine', 'Belarus', 'Burundi', 'Ecuador', 'Mozambique',\n",
       "       'Czech Republic', 'Tunisia', 'Kazakhstan', 'Tonga', 'Uzbekistan',\n",
       "       'Slovakia', 'Moldova', 'Georgia', 'Hong Kong', 'Armenia',\n",
       "       'Azerbaijan', 'Saudi Arabia', 'Barbados', 'Sri Lanka', 'Uruguay',\n",
       "       'Kyrgyzstan', 'Kuwait', 'Vietnam', 'Macedonia', 'Serbia',\n",
       "       'Eritrea', 'Paraguay', 'United Arab Emirates', 'Panama', 'Sudan',\n",
       "       'Mauritius', 'Togo', 'Tajikistan', 'Singapore', 'Afghanistan'],\n",
       "      dtype=object)"
      ]
     },
     "execution_count": 48,
     "metadata": {},
     "output_type": "execute_result"
    }
   ],
   "source": [
    "df.country.unique()"
   ]
  },
  {
   "cell_type": "code",
   "execution_count": 39,
   "metadata": {},
   "outputs": [],
   "source": [
    "def find_medal_total(country, medal):\n",
    "    return len(df.loc[(df.country == country) & (df.medal == medal)])"
   ]
  },
  {
   "cell_type": "code",
   "execution_count": 40,
   "metadata": {},
   "outputs": [
    {
     "name": "stdout",
     "output_type": "stream",
     "text": [
      "928\n",
      "583\n",
      "481\n"
     ]
    }
   ],
   "source": [
    "print(find_medal_total('United States', 'Gold'))\n",
    "print(find_medal_total('United States', 'Silver'))\n",
    "print(find_medal_total('United States', 'Bronze'))"
   ]
  },
  {
   "cell_type": "code",
   "execution_count": 42,
   "metadata": {},
   "outputs": [
    {
     "name": "stdout",
     "output_type": "stream",
     "text": [
      "723\n",
      "556\n",
      "603\n"
     ]
    }
   ],
   "source": [
    "print(find_medal_total('Russia', 'Gold'))\n",
    "print(find_medal_total('Russia', 'Silver'))\n",
    "print(find_medal_total('Russia', 'Bronze'))"
   ]
  },
  {
   "cell_type": "code",
   "execution_count": 43,
   "metadata": {},
   "outputs": [],
   "source": []
  },
  {
   "cell_type": "code",
   "execution_count": 44,
   "metadata": {},
   "outputs": [
    {
     "data": {
      "text/plain": [
       "{'Puerto Rico*': 'Puerto Rico',\n",
       " 'Bermuda*': 'Bermuda',\n",
       " 'Netherlands Antilles*': 'Netherlands Antilles',\n",
       " 'Virgin Islands*': 'Virgin Islands',\n",
       " 'Hong Kong*': 'Hong Kong'}"
      ]
     },
     "execution_count": 44,
     "metadata": {},
     "output_type": "execute_result"
    }
   ],
   "source": [
    "d"
   ]
  },
  {
   "cell_type": "code",
   "execution_count": null,
   "metadata": {},
   "outputs": [],
   "source": []
  }
 ],
 "metadata": {
  "kernelspec": {
   "display_name": "Python 3",
   "language": "python",
   "name": "python3"
  },
  "language_info": {
   "codemirror_mode": {
    "name": "ipython",
    "version": 3
   },
   "file_extension": ".py",
   "mimetype": "text/x-python",
   "name": "python",
   "nbconvert_exporter": "python",
   "pygments_lexer": "ipython3",
   "version": "3.8.5"
  }
 },
 "nbformat": 4,
 "nbformat_minor": 4
}
